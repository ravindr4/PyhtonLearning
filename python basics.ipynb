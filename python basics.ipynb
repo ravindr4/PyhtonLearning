{
 "cells": [
  {
   "cell_type": "code",
   "execution_count": 3,
   "metadata": {},
   "outputs": [
    {
     "name": "stdout",
     "output_type": "stream",
     "text": [
      "5 67\n"
     ]
    }
   ],
   "source": [
    "#use split functiomn to take multiple inputs\n",
    "a,b = input().split()"
   ]
  },
  {
   "cell_type": "code",
   "execution_count": 5,
   "metadata": {},
   "outputs": [
    {
     "name": "stdout",
     "output_type": "stream",
     "text": [
      "567\n"
     ]
    }
   ],
   "source": [
    "print(a+b) #cos they are string"
   ]
  },
  {
   "cell_type": "markdown",
   "metadata": {},
   "source": [
    "One does not need to specify data type explicitly , unless you want to convert them.\n",
    "\n",
    "Use `type(object)` function to find type of object"
   ]
  },
  {
   "cell_type": "markdown",
   "metadata": {},
   "source": [
    "# Types of data\n",
    "* Int\n",
    "* float\n",
    "* String\n",
    "* boolean\n",
    "\n",
    "Typecasting happens automatically in python or can be done explicitly. In automatic , integer gets upgraded to float when an operation is done using float."
   ]
  },
  {
   "cell_type": "code",
   "execution_count": 4,
   "metadata": {},
   "outputs": [
    {
     "name": "stdout",
     "output_type": "stream",
     "text": [
      "<class 'float'> <class 'int'>\n",
      "0.9833333333333334\n",
      "0.9833333333333334\n",
      "0.8333333333333334\n",
      "666666\n"
     ]
    }
   ],
   "source": [
    "# for example\n",
    "a,b = 5.9 , 6\n",
    "print( type(a),type(b))\n",
    "print(a/b)                         #implicit conversion\n",
    "print(a/float(b))                  #explicit conversion of b to float\n",
    "print(int(a)/b)                    #explicit conversion of a to int\n",
    "c = '6'\n",
    "print( b*c )                       #strings do not get converted"
   ]
  },
  {
   "cell_type": "markdown",
   "metadata": {},
   "source": [
    "## Data Structures"
   ]
  }
 ],
 "metadata": {
  "kernelspec": {
   "display_name": "Python 3",
   "language": "python",
   "name": "python3"
  },
  "language_info": {
   "codemirror_mode": {
    "name": "ipython",
    "version": 3
   },
   "file_extension": ".py",
   "mimetype": "text/x-python",
   "name": "python",
   "nbconvert_exporter": "python",
   "pygments_lexer": "ipython3",
   "version": "3.8.5"
  }
 },
 "nbformat": 4,
 "nbformat_minor": 4
}
