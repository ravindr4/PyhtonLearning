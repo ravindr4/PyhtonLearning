{
 "cells": [
  {
   "cell_type": "markdown",
   "metadata": {},
   "source": [
    "# Anaconda basics "
   ]
  },
  {
   "cell_type": "markdown",
   "metadata": {},
   "source": [
    "* here will be info about anaconda shortcuts , my preference for shortcuts \n",
    "* how to use other applications with anaconda (conda prompt commands)"
   ]
  },
  {
   "cell_type": "markdown",
   "metadata": {},
   "source": [
    "## MARKDOWN\n",
    "\n",
    "[markdown basics](https://wordpress.com/support/markdown-quick-reference/)  ->  use the link to make better markdown cells "
   ]
  },
  {
   "cell_type": "markdown",
   "metadata": {},
   "source": [
    "## CONDA PROMPT COMMANDS\n",
    "\n",
    "* `conda intall {library name}  `  -> to install library\n",
    "* `conda list` -> to list libraries installed in conda"
   ]
  },
  {
   "cell_type": "markdown",
   "metadata": {},
   "source": [
    "## JUPYTER SHORTCUTS\n",
    "* `TAB` -> auto-complete names \n",
    "* `SHIFT + TAB` -> info about function use\n",
    "* `ALT + ENTER` -> execute current cell , create new cell and move pointer there\n",
    "* `SHIFT + ENTER` -> execute current cell and move to next cell if exists\n",
    "* `CTRL + ENTER` -> execute current cell and stay there"
   ]
  }
 ],
 "metadata": {
  "kernelspec": {
   "display_name": "Python 3",
   "language": "python",
   "name": "python3"
  },
  "language_info": {
   "codemirror_mode": {
    "name": "ipython",
    "version": 3
   },
   "file_extension": ".py",
   "mimetype": "text/x-python",
   "name": "python",
   "nbconvert_exporter": "python",
   "pygments_lexer": "ipython3",
   "version": "3.8.5"
  }
 },
 "nbformat": 4,
 "nbformat_minor": 4
}
